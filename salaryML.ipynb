{
 "cells": [
  {
   "cell_type": "code",
   "execution_count": 1,
   "metadata": {
    "collapsed": true,
    "pycharm": {
     "name": "#%%\n"
    }
   },
   "outputs": [
    {
     "name": "stdout",
     "output_type": "stream",
     "text": [
      "Our goal for the model is to predict the salaries of NBA players based on their performance in 2017-18.\n"
     ]
    }
   ],
   "source": [
    "# Initial Dependencies\n",
    "import matplotlib.pyplot as plt\n",
    "import pandas as pd\n",
    "import numpy as np\n",
    "import os\n",
    "\n",
    "print(\"Our goal for the model is to predict the salaries of NBA players based on their performance in 2017-18.\")\n"
   ]
  },
  {
   "cell_type": "code",
   "execution_count": 2,
   "outputs": [
    {
     "data": {
      "text/plain": "              Player Pos    Salary           Country  Age   Tm   G  GS    MP  \\\n1       Aaron Brooks  PG   2116955               USA   32  IND  65   0   894   \n2       Aaron Gordon  SF   5504420               USA   21  ORL  80  72  2298   \n3     Aaron Harrison  SG     83129               USA   22  CHO   5   0    17   \n4         Al Horford   C  27734405  Dominican Rep...   30  BOS  68  68  2193   \n5       Al Jefferson   C   9769821               USA   32  IND  66   1   931   \n..               ...  ..       ...               ...  ...  ...  ..  ..   ...   \n377  Wilson Chandler  SF  12016854               USA   29  DEN  71  33  2197   \n378     Yogi Ferrell  PG   1312611               USA   23  TOT  46  29  1197   \n379      Zach LaVine  SG   3202217               USA   21  MIN  47  47  1749   \n380    Zach Randolph  PF  12307692               USA   35  MEM  73   5  1786   \n381    Zaza Pachulia   C   3477600           Georgia   32  GSW  70  70  1268   \n\n      PER  ...    FT%  ORB  DRB  TRB  AST  STL  BLK  TOV   PF   PTS  \n1     9.5  ...  0.800   18   51   69  125   25    9   66   93   322  \n2    14.4  ...  0.719  116  289  405  150   64   40   89  172  1019  \n3    -2.2  ...  0.500    0    3    3    3    0    0    0    2     1  \n4    17.7  ...  0.800   95  369  464  337   52   87  116  138   952  \n5    18.9  ...  0.765   75  203  278   57   19   16   33  125   535  \n..    ...  ...    ...  ...  ...  ...  ...  ...  ...  ...  ...   ...  \n377  14.9  ...  0.727  103  356  459  141   52   30  114  172  1117  \n378  13.1  ...  0.831   20   91  111  172   42    9   70   90   462  \n379  14.6  ...  0.836   18  141  159  139   41   10   85  104   889  \n380  18.5  ...  0.731  182  416  598  122   38   10   99  136  1028  \n381  16.1  ...  0.778  140  270  410  132   59   33   88  166   426  \n\n[360 rows x 51 columns]",
      "text/html": "<div>\n<style scoped>\n    .dataframe tbody tr th:only-of-type {\n        vertical-align: middle;\n    }\n\n    .dataframe tbody tr th {\n        vertical-align: top;\n    }\n\n    .dataframe thead th {\n        text-align: right;\n    }\n</style>\n<table border=\"1\" class=\"dataframe\">\n  <thead>\n    <tr style=\"text-align: right;\">\n      <th></th>\n      <th>Player</th>\n      <th>Pos</th>\n      <th>Salary</th>\n      <th>Country</th>\n      <th>Age</th>\n      <th>Tm</th>\n      <th>G</th>\n      <th>GS</th>\n      <th>MP</th>\n      <th>PER</th>\n      <th>...</th>\n      <th>FT%</th>\n      <th>ORB</th>\n      <th>DRB</th>\n      <th>TRB</th>\n      <th>AST</th>\n      <th>STL</th>\n      <th>BLK</th>\n      <th>TOV</th>\n      <th>PF</th>\n      <th>PTS</th>\n    </tr>\n  </thead>\n  <tbody>\n    <tr>\n      <th>1</th>\n      <td>Aaron Brooks</td>\n      <td>PG</td>\n      <td>2116955</td>\n      <td>USA</td>\n      <td>32</td>\n      <td>IND</td>\n      <td>65</td>\n      <td>0</td>\n      <td>894</td>\n      <td>9.5</td>\n      <td>...</td>\n      <td>0.800</td>\n      <td>18</td>\n      <td>51</td>\n      <td>69</td>\n      <td>125</td>\n      <td>25</td>\n      <td>9</td>\n      <td>66</td>\n      <td>93</td>\n      <td>322</td>\n    </tr>\n    <tr>\n      <th>2</th>\n      <td>Aaron Gordon</td>\n      <td>SF</td>\n      <td>5504420</td>\n      <td>USA</td>\n      <td>21</td>\n      <td>ORL</td>\n      <td>80</td>\n      <td>72</td>\n      <td>2298</td>\n      <td>14.4</td>\n      <td>...</td>\n      <td>0.719</td>\n      <td>116</td>\n      <td>289</td>\n      <td>405</td>\n      <td>150</td>\n      <td>64</td>\n      <td>40</td>\n      <td>89</td>\n      <td>172</td>\n      <td>1019</td>\n    </tr>\n    <tr>\n      <th>3</th>\n      <td>Aaron Harrison</td>\n      <td>SG</td>\n      <td>83129</td>\n      <td>USA</td>\n      <td>22</td>\n      <td>CHO</td>\n      <td>5</td>\n      <td>0</td>\n      <td>17</td>\n      <td>-2.2</td>\n      <td>...</td>\n      <td>0.500</td>\n      <td>0</td>\n      <td>3</td>\n      <td>3</td>\n      <td>3</td>\n      <td>0</td>\n      <td>0</td>\n      <td>0</td>\n      <td>2</td>\n      <td>1</td>\n    </tr>\n    <tr>\n      <th>4</th>\n      <td>Al Horford</td>\n      <td>C</td>\n      <td>27734405</td>\n      <td>Dominican Rep...</td>\n      <td>30</td>\n      <td>BOS</td>\n      <td>68</td>\n      <td>68</td>\n      <td>2193</td>\n      <td>17.7</td>\n      <td>...</td>\n      <td>0.800</td>\n      <td>95</td>\n      <td>369</td>\n      <td>464</td>\n      <td>337</td>\n      <td>52</td>\n      <td>87</td>\n      <td>116</td>\n      <td>138</td>\n      <td>952</td>\n    </tr>\n    <tr>\n      <th>5</th>\n      <td>Al Jefferson</td>\n      <td>C</td>\n      <td>9769821</td>\n      <td>USA</td>\n      <td>32</td>\n      <td>IND</td>\n      <td>66</td>\n      <td>1</td>\n      <td>931</td>\n      <td>18.9</td>\n      <td>...</td>\n      <td>0.765</td>\n      <td>75</td>\n      <td>203</td>\n      <td>278</td>\n      <td>57</td>\n      <td>19</td>\n      <td>16</td>\n      <td>33</td>\n      <td>125</td>\n      <td>535</td>\n    </tr>\n    <tr>\n      <th>...</th>\n      <td>...</td>\n      <td>...</td>\n      <td>...</td>\n      <td>...</td>\n      <td>...</td>\n      <td>...</td>\n      <td>...</td>\n      <td>...</td>\n      <td>...</td>\n      <td>...</td>\n      <td>...</td>\n      <td>...</td>\n      <td>...</td>\n      <td>...</td>\n      <td>...</td>\n      <td>...</td>\n      <td>...</td>\n      <td>...</td>\n      <td>...</td>\n      <td>...</td>\n      <td>...</td>\n    </tr>\n    <tr>\n      <th>377</th>\n      <td>Wilson Chandler</td>\n      <td>SF</td>\n      <td>12016854</td>\n      <td>USA</td>\n      <td>29</td>\n      <td>DEN</td>\n      <td>71</td>\n      <td>33</td>\n      <td>2197</td>\n      <td>14.9</td>\n      <td>...</td>\n      <td>0.727</td>\n      <td>103</td>\n      <td>356</td>\n      <td>459</td>\n      <td>141</td>\n      <td>52</td>\n      <td>30</td>\n      <td>114</td>\n      <td>172</td>\n      <td>1117</td>\n    </tr>\n    <tr>\n      <th>378</th>\n      <td>Yogi Ferrell</td>\n      <td>PG</td>\n      <td>1312611</td>\n      <td>USA</td>\n      <td>23</td>\n      <td>TOT</td>\n      <td>46</td>\n      <td>29</td>\n      <td>1197</td>\n      <td>13.1</td>\n      <td>...</td>\n      <td>0.831</td>\n      <td>20</td>\n      <td>91</td>\n      <td>111</td>\n      <td>172</td>\n      <td>42</td>\n      <td>9</td>\n      <td>70</td>\n      <td>90</td>\n      <td>462</td>\n    </tr>\n    <tr>\n      <th>379</th>\n      <td>Zach LaVine</td>\n      <td>SG</td>\n      <td>3202217</td>\n      <td>USA</td>\n      <td>21</td>\n      <td>MIN</td>\n      <td>47</td>\n      <td>47</td>\n      <td>1749</td>\n      <td>14.6</td>\n      <td>...</td>\n      <td>0.836</td>\n      <td>18</td>\n      <td>141</td>\n      <td>159</td>\n      <td>139</td>\n      <td>41</td>\n      <td>10</td>\n      <td>85</td>\n      <td>104</td>\n      <td>889</td>\n    </tr>\n    <tr>\n      <th>380</th>\n      <td>Zach Randolph</td>\n      <td>PF</td>\n      <td>12307692</td>\n      <td>USA</td>\n      <td>35</td>\n      <td>MEM</td>\n      <td>73</td>\n      <td>5</td>\n      <td>1786</td>\n      <td>18.5</td>\n      <td>...</td>\n      <td>0.731</td>\n      <td>182</td>\n      <td>416</td>\n      <td>598</td>\n      <td>122</td>\n      <td>38</td>\n      <td>10</td>\n      <td>99</td>\n      <td>136</td>\n      <td>1028</td>\n    </tr>\n    <tr>\n      <th>381</th>\n      <td>Zaza Pachulia</td>\n      <td>C</td>\n      <td>3477600</td>\n      <td>Georgia</td>\n      <td>32</td>\n      <td>GSW</td>\n      <td>70</td>\n      <td>70</td>\n      <td>1268</td>\n      <td>16.1</td>\n      <td>...</td>\n      <td>0.778</td>\n      <td>140</td>\n      <td>270</td>\n      <td>410</td>\n      <td>132</td>\n      <td>59</td>\n      <td>33</td>\n      <td>88</td>\n      <td>166</td>\n      <td>426</td>\n    </tr>\n  </tbody>\n</table>\n<p>360 rows × 51 columns</p>\n</div>"
     },
     "execution_count": 2,
     "metadata": {},
     "output_type": "execute_result"
    }
   ],
   "source": [
    "nba = pd.read_csv('datasets/NBA_Stats_2017.csv', index_col=[0])\n",
    "nba"
   ],
   "metadata": {
    "collapsed": false,
    "pycharm": {
     "name": "#%%\n"
    }
   }
  },
  {
   "cell_type": "code",
   "execution_count": 3,
   "outputs": [
    {
     "data": {
      "text/plain": "           Player Pos    Salary           Country  Age   Tm   G  GS    MP  \\\n1    Aaron Brooks  PG   2116955               USA   32  IND  65   0   894   \n2    Aaron Gordon  SF   5504420               USA   21  ORL  80  72  2298   \n3  Aaron Harrison  SG     83129               USA   22  CHO   5   0    17   \n4      Al Horford   C  27734405  Dominican Rep...   30  BOS  68  68  2193   \n5    Al Jefferson   C   9769821               USA   32  IND  66   1   931   \n\n    PER  ...  ORB  DRB  TRB  AST  STL  BLK  TOV   PF   PTS  Salary_log  \n1   9.5  ...   18   51   69  125   25    9   66   93   322   14.565489  \n2  14.4  ...  116  289  405  150   64   40   89  172  1019   15.521062  \n3  -2.2  ...    0    3    3    3    0    0    0    2     1   11.328149  \n4  17.7  ...   95  369  464  337   52   87  116  138   952   17.138184  \n5  18.9  ...   75  203  278   57   19   16   33  125   535   16.094809  \n\n[5 rows x 52 columns]",
      "text/html": "<div>\n<style scoped>\n    .dataframe tbody tr th:only-of-type {\n        vertical-align: middle;\n    }\n\n    .dataframe tbody tr th {\n        vertical-align: top;\n    }\n\n    .dataframe thead th {\n        text-align: right;\n    }\n</style>\n<table border=\"1\" class=\"dataframe\">\n  <thead>\n    <tr style=\"text-align: right;\">\n      <th></th>\n      <th>Player</th>\n      <th>Pos</th>\n      <th>Salary</th>\n      <th>Country</th>\n      <th>Age</th>\n      <th>Tm</th>\n      <th>G</th>\n      <th>GS</th>\n      <th>MP</th>\n      <th>PER</th>\n      <th>...</th>\n      <th>ORB</th>\n      <th>DRB</th>\n      <th>TRB</th>\n      <th>AST</th>\n      <th>STL</th>\n      <th>BLK</th>\n      <th>TOV</th>\n      <th>PF</th>\n      <th>PTS</th>\n      <th>Salary_log</th>\n    </tr>\n  </thead>\n  <tbody>\n    <tr>\n      <th>1</th>\n      <td>Aaron Brooks</td>\n      <td>PG</td>\n      <td>2116955</td>\n      <td>USA</td>\n      <td>32</td>\n      <td>IND</td>\n      <td>65</td>\n      <td>0</td>\n      <td>894</td>\n      <td>9.5</td>\n      <td>...</td>\n      <td>18</td>\n      <td>51</td>\n      <td>69</td>\n      <td>125</td>\n      <td>25</td>\n      <td>9</td>\n      <td>66</td>\n      <td>93</td>\n      <td>322</td>\n      <td>14.565489</td>\n    </tr>\n    <tr>\n      <th>2</th>\n      <td>Aaron Gordon</td>\n      <td>SF</td>\n      <td>5504420</td>\n      <td>USA</td>\n      <td>21</td>\n      <td>ORL</td>\n      <td>80</td>\n      <td>72</td>\n      <td>2298</td>\n      <td>14.4</td>\n      <td>...</td>\n      <td>116</td>\n      <td>289</td>\n      <td>405</td>\n      <td>150</td>\n      <td>64</td>\n      <td>40</td>\n      <td>89</td>\n      <td>172</td>\n      <td>1019</td>\n      <td>15.521062</td>\n    </tr>\n    <tr>\n      <th>3</th>\n      <td>Aaron Harrison</td>\n      <td>SG</td>\n      <td>83129</td>\n      <td>USA</td>\n      <td>22</td>\n      <td>CHO</td>\n      <td>5</td>\n      <td>0</td>\n      <td>17</td>\n      <td>-2.2</td>\n      <td>...</td>\n      <td>0</td>\n      <td>3</td>\n      <td>3</td>\n      <td>3</td>\n      <td>0</td>\n      <td>0</td>\n      <td>0</td>\n      <td>2</td>\n      <td>1</td>\n      <td>11.328149</td>\n    </tr>\n    <tr>\n      <th>4</th>\n      <td>Al Horford</td>\n      <td>C</td>\n      <td>27734405</td>\n      <td>Dominican Rep...</td>\n      <td>30</td>\n      <td>BOS</td>\n      <td>68</td>\n      <td>68</td>\n      <td>2193</td>\n      <td>17.7</td>\n      <td>...</td>\n      <td>95</td>\n      <td>369</td>\n      <td>464</td>\n      <td>337</td>\n      <td>52</td>\n      <td>87</td>\n      <td>116</td>\n      <td>138</td>\n      <td>952</td>\n      <td>17.138184</td>\n    </tr>\n    <tr>\n      <th>5</th>\n      <td>Al Jefferson</td>\n      <td>C</td>\n      <td>9769821</td>\n      <td>USA</td>\n      <td>32</td>\n      <td>IND</td>\n      <td>66</td>\n      <td>1</td>\n      <td>931</td>\n      <td>18.9</td>\n      <td>...</td>\n      <td>75</td>\n      <td>203</td>\n      <td>278</td>\n      <td>57</td>\n      <td>19</td>\n      <td>16</td>\n      <td>33</td>\n      <td>125</td>\n      <td>535</td>\n      <td>16.094809</td>\n    </tr>\n  </tbody>\n</table>\n<p>5 rows × 52 columns</p>\n</div>"
     },
     "execution_count": 3,
     "metadata": {},
     "output_type": "execute_result"
    }
   ],
   "source": [
    "#Feature Selection,\n",
    "# We will be using the following features for the model.\n",
    "\n",
    "#Taking Logs of our target variable\n",
    "\n",
    "# We are taking the log of the salaries to normalize the data and reduce the impact of outliers. NBA salaries are often distributed unevenly, with a small number of players earning a significant amount of money, and the majority of players earning much less. This uneven distribution can create outliers in the data, which can skew the results of the analysis. Taking the log of the salaries can help to reduce the impact of these outliers and make the data more normally distributed.\n",
    "nba['Salary_log'] = nba['Salary'].apply(lambda x: np.log(x))\n",
    "nba.head()\n"
   ],
   "metadata": {
    "collapsed": false,
    "pycharm": {
     "name": "#%%\n"
    }
   }
  },
  {
   "cell_type": "code",
   "execution_count": 4,
   "outputs": [],
   "source": [
    "#We wil be using features that will correspond to an individual game performance.\n",
    "# For example, our dataset contains the points scored by each player in a whole season, we will be deviding the points scored with total number of games played to get the Points Per Game for the player.\n",
    "\n",
    "# Get Game Stats instead of Seasonal Stats for certain columns to see if R2 higher\n",
    "nba['PPG'] = nba['PTS']/nba['G']\n",
    "nba['MPG'] = nba['MP']/nba['G']\n",
    "nba['APG'] = nba['AST']/nba['G']\n",
    "nba['SPG'] = nba['STL']/nba['G']\n",
    "nba['BPG'] = nba['BLK']/nba['G']\n",
    "\n",
    "#Win Shares for NBA players during a season is a measure of how many wins a player contributed to his team over the course of the season. It takes into account various statistics, including points, rebounds, assists, steals, blocks, and turnovers, as well as playing time and the overall performance of the team.\n"
   ],
   "metadata": {
    "collapsed": false,
    "pycharm": {
     "name": "#%%\n"
    }
   }
  },
  {
   "cell_type": "markdown",
   "source": [],
   "metadata": {
    "collapsed": false,
    "pycharm": {
     "name": "#%% md\n"
    }
   }
  },
  {
   "cell_type": "code",
   "execution_count": 5,
   "outputs": [
    {
     "name": "stdout",
     "output_type": "stream",
     "text": [
      "(360, 7) (360, 1)\n"
     ]
    }
   ],
   "source": [
    "X = nba[['PPG', 'MPG', 'APG', 'SPG', 'BPG', 'WS', 'Age']]\n",
    "y = nba[\"Salary_log\"].values.reshape(-1, 1)\n",
    "print(X.shape, y.shape)"
   ],
   "metadata": {
    "collapsed": false,
    "pycharm": {
     "name": "#%%\n"
    }
   }
  },
  {
   "cell_type": "code",
   "execution_count": 6,
   "outputs": [],
   "source": [
    "# Split the data into training and testing\n",
    "from sklearn.model_selection import train_test_split\n",
    "\n",
    "X_train, X_test, y_train, y_test = train_test_split(X, y, random_state=42)"
   ],
   "metadata": {
    "collapsed": false,
    "pycharm": {
     "name": "#%%\n"
    }
   }
  },
  {
   "cell_type": "code",
   "execution_count": 10,
   "outputs": [],
   "source": [
    "# Create a LinearRegression model and fit it to the scaled training data\n",
    "\n",
    "from sklearn.linear_model import LinearRegression\n",
    "regressor = LinearRegression()\n",
    "regressor.fit(X_train, y_train)  # perform linear regression\n",
    "y_pred = regressor.predict(X_test)"
   ],
   "metadata": {
    "collapsed": false,
    "pycharm": {
     "name": "#%%\n"
    }
   }
  },
  {
   "cell_type": "code",
   "execution_count": 11,
   "outputs": [
    {
     "data": {
      "text/plain": "Text(0.5, 1.0, 'Residual Plot')"
     },
     "execution_count": 11,
     "metadata": {},
     "output_type": "execute_result"
    },
    {
     "data": {
      "text/plain": "<Figure size 640x480 with 1 Axes>",
      "image/png": "[encoded data removed]"
     },
     "metadata": {},
     "output_type": "display_data"
    }
   ],
   "source": [
    "# Make predictions using a fitted model\n",
    "# Plot the difference between the model predicted values and actual y values, versus the model predicted values\n",
    "# Predict the values of X training and testing data using model.predict() method on the fitted model\n",
    "\n",
    "plt.scatter(regressor.predict(X_train), regressor.predict(X_train) - y_train, c=\"blue\", label=\"Training Data\")\n",
    "plt.scatter(regressor.predict(X_test), regressor.predict(X_test) - y_test, c=\"orange\", label=\"Testing Data\")\n",
    "plt.legend()\n",
    "plt.hlines(y=0, xmin=y.min(), xmax=y.max())\n",
    "plt.title(\"Residual Plot\")"
   ],
   "metadata": {
    "collapsed": false,
    "pycharm": {
     "name": "#%%\n"
    }
   }
  },
  {
   "cell_type": "code",
   "execution_count": 12,
   "outputs": [
    {
     "name": "stdout",
     "output_type": "stream",
     "text": [
      "MSE: 0.6326738743239876, R2: 0.5523769265005738\n"
     ]
    }
   ],
   "source": [
    "from sklearn.metrics import mean_squared_error\n",
    "from sklearn.metrics import r2_score\n",
    "\n",
    "\n",
    "MSE = mean_squared_error(y_test, y_pred)\n",
    "r2 = regressor.score(X_test, y_test)\n",
    "\n",
    "print(f\"MSE: {MSE}, R2: {r2}\")"
   ],
   "metadata": {
    "collapsed": false,
    "pycharm": {
     "name": "#%%\n"
    }
   }
  },
  {
   "cell_type": "code",
   "execution_count": 13,
   "outputs": [],
   "source": [
    "import pickle\n",
    "pickle.dump(regressor, open('model.pkl','wb'))\n",
    "model = pickle.load(open('model.pkl','rb'))"
   ],
   "metadata": {
    "collapsed": false,
    "pycharm": {
     "name": "#%%\n"
    }
   }
  },
  {
   "cell_type": "code",
   "execution_count": 22,
   "outputs": [
    {
     "name": "stdout",
     "output_type": "stream",
     "text": [
      "Random Forest Model: MSE: 0.7347844685786269, R2: 0.48013266307820224\n",
      "KNN Model: MSE: 0.6789967829538568, R2: 0.5196030068306795\n",
      "Support Vector Machine Model: MSE: 0.7573688318670476, R2: -0.0013551070897090955\n",
      "Linear Regression Model: MSE: 0.6326738743239876, R2: 0.5523769265005738\n"
     ]
    },
    {
     "name": "stderr",
     "output_type": "stream",
     "text": [
      "C:\\Users\\sjind\\ASingh\\BCIT-4th-term\\BigDataAnalytics\\Assignements\\Assign2\\Code\\venv\\lib\\site-packages\\sklearn\\base.py:413: UserWarning: X has feature names, but SVR was fitted without feature names\n",
      "  warnings.warn(\n"
     ]
    }
   ],
   "source": [
    "from sklearn.ensemble import RandomForestRegressor\n",
    "from sklearn.neighbors import KNeighborsRegressor\n",
    "from sklearn.svm import SVR\n",
    "from sklearn.preprocessing import StandardScaler\n",
    "from sklearn.metrics import mean_squared_error\n",
    "\n",
    "\n",
    "rf_model = RandomForestRegressor(n_estimators=500, random_state=42)\n",
    "rf_model.fit(X_train, y_train)\n",
    "\n",
    "# Make predictions\n",
    "y_pred = rf_model.predict(X_test)\n",
    "\n",
    "MSE = mean_squared_error(y_test, y_pred)\n",
    "r2 = rf_model.score(X_test, y_test)\n",
    "\n",
    "print(f\"Random Forest Model: MSE: {MSE}, R2: {r2}\")\n",
    "\n",
    "\n",
    "\n",
    "knn_model = KNeighborsRegressor(n_neighbors=5)\n",
    "knn_model.fit(X_train, y_train)\n",
    "\n",
    "# Make predictions\n",
    "y_pred = knn_model.predict(X_test)\n",
    "\n",
    "MSE = mean_squared_error(y_test, y_pred)\n",
    "r2 = knn_model.score(X_test, y_test)\n",
    "\n",
    "print(f\"KNN Model: MSE: {MSE}, R2: {r2}\")\n",
    "\n",
    "\n",
    "# Scale the data\n",
    "scaler = StandardScaler()\n",
    "X_train_scaled = scaler.fit_transform(X_train)\n",
    "X_test_scaled = scaler.transform(X_test)\n",
    "\n",
    "# Instantiate a support vector machine regressor\n",
    "svm_model = SVR(kernel='rbf', C=10, gamma='scale')\n",
    "# Train the model\n",
    "svm_model.fit(X_train_scaled, y_train)\n",
    "# Make predictions\n",
    "y_pred = svm_model.predict(X_test_scaled)\n",
    "\n",
    "MSE = mean_squared_error(y_test, y_pred)\n",
    "r2 = svm_model.score(X_test, y_test)\n",
    "\n",
    "print(f\"Support Vector Machine Model: MSE: {MSE}, R2: {r2}\")\n",
    "\n",
    "\n",
    "from sklearn.linear_model import LinearRegression\n",
    "regressor = LinearRegression()\n",
    "regressor.fit(X_train, y_train)  # perform linear regression\n",
    "y_pred = regressor.predict(X_test)\n",
    "\n",
    "MSE = mean_squared_error(y_test, y_pred)\n",
    "r2 = regressor.score(X_test, y_test)\n",
    "\n",
    "print(f\"Linear Regression Model: MSE: {MSE}, R2: {r2}\")"
   ],
   "metadata": {
    "collapsed": false,
    "pycharm": {
     "name": "#%%\n"
    }
   }
  },
  {
   "cell_type": "code",
   "execution_count": null,
   "outputs": [],
   "source": [],
   "metadata": {
    "collapsed": false,
    "pycharm": {
     "name": "#%%\n"
    }
   }
  }
 ],
 "metadata": {
  "kernelspec": {
   "display_name": "Python 3",
   "language": "python",
   "name": "python3"
  },
  "language_info": {
   "codemirror_mode": {
    "name": "ipython",
    "version": 2
   },
   "file_extension": ".py",
   "mimetype": "text/x-python",
   "name": "python",
   "nbconvert_exporter": "python",
   "pygments_lexer": "ipython2",
   "version": "2.7.6"
  }
 },
 "nbformat": 4,
 "nbformat_minor": 0
}